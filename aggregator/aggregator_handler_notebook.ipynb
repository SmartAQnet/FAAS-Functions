{
 "cells": [
  {
   "cell_type": "code",
   "execution_count": 28,
   "metadata": {},
   "outputs": [],
   "source": [
    "import json, requests\n",
    "import pandas as pd\n",
    "import numpy as np\n",
    "\n",
    "def getdata(initiallink):\n",
    "    \n",
    "    link=initiallink\n",
    "    data=pd.Series(dtype=\"float64\")\n",
    "    morenextlinks=True\n",
    "    \n",
    "    while(morenextlinks):\n",
    "\n",
    "        try:\n",
    "            #get the data\n",
    "            datarequest=json.loads(requests.get(link).text)\n",
    "            if(datarequest['value']==[]):\n",
    "                #print('no observations under this link')\n",
    "                break\n",
    "\n",
    "        except: \n",
    "            #print('no observations under this link')\n",
    "            break\n",
    "\n",
    "\n",
    "        if(len(datarequest['value'])>0):\n",
    "            #append chunks\n",
    "            datachunk=pd.Series(list(map(lambda x: x[\"result\"],datarequest[\"value\"])),index=list(map(lambda x: pd.to_datetime(x[\"resultTime\"]),datarequest[\"value\"])))\n",
    "            data=data.append(datachunk)\n",
    "\n",
    "            try:\n",
    "                link=datarequest[\"@iot.nextLink\"]\n",
    "            except:\n",
    "                morenextlinks=False;\n",
    "                break\n",
    "    return data\n",
    "\n",
    "\n",
    "def handle(event, context):\n",
    "    \n",
    "    #t=5\n",
    "    \n",
    "    t = event.query[\"$aggregate\"]\n",
    "    realkeys = list(filter(lambda x: x != \"$aggregate\", event.query.keys()))\n",
    "    urlquery = \"&\".join(list(map(lambda x: x + \"=\" + event.query[x], realkeys)))\n",
    "    print(t)\n",
    "    \n",
    "    url = \"https://api.smartaq.net/v1.0\"\n",
    "    #frostquery=\"/Datastreams('saqn%3Ads%3Afc82203')/Observations?$filter=phenomenonTime%20gt%202020-05-20T02:00:00.000Z%20and%20phenomenonTime%20lt%202020-05-22T02:00:00.000Z\"\n",
    "    frostquery=url + event.path + \"?\" + urlquery\n",
    "    \n",
    "    \n",
    "    freq=str(t) + \"T\"\n",
    "    print(url)\n",
    "    print(frostquery)\n",
    "    data=getdata(frostquery)\n",
    "    \n",
    "    #check for empty link\n",
    "    try:\n",
    "        data[0]\n",
    "    except: \n",
    "        return {\n",
    "            \"statusCode\": 404,\n",
    "            \"body\": {}, \n",
    "            \"headers\": {\n",
    "                \"Content-Type\": \"application/json\"\n",
    "            }\n",
    "        }\n",
    "    \n",
    "    #aggregate the data\n",
    "    agg=data.resample(freq).agg([np.sum, np.mean, np.std])\n",
    "    agg[\"count\"]=(agg[\"sum\"]/agg[\"mean\"]).apply(int)\n",
    "    \n",
    "    #output the result as a dataframe\n",
    "    result=pd.DataFrame({\"result\": list(agg[\"mean\"]),\"resultTime\": list(agg.index.map(lambda x: x.isoformat().split(\"+\")[0] + \".000Z\")),\"phenomenonTime\": list(agg.index.map(lambda x: (x-pd.Timedelta(str(t) + \"m\")).isoformat().split(\"+\")[0] + \".000Z\" + \"/\" + x.isoformat().split(\"+\")[0] + \".000Z\")), \"parameters\": json.loads(agg[[\"count\",\"std\"]].to_json(orient=\"records\"))})\n",
    "    \n",
    "    \n",
    "    \n",
    "    return {\n",
    "        \"statusCode\": 200,\n",
    "        \"body\": [frostquery, t], #result.to_json(orient='records'), \n",
    "        \"headers\": {\n",
    "            \"Content-Type\": \"application/json\"\n",
    "        }\n",
    "    }\n"
   ]
  },
  {
   "cell_type": "code",
   "execution_count": 29,
   "metadata": {},
   "outputs": [
    {
     "name": "stdout",
     "output_type": "stream",
     "text": [
      "5\n",
      "https://api.smartaq.net/v1.0\n",
      "https://api.smartaq.net/v1.0/Datastreams('saqn%3Ads%3A7540858')/Observations?$filter=phenomenonTime%20lt%202019-07-02T18:00:00.000Z%20and%20phenomenonTime%20gt%202019-07-02T15:00:00.000Z\n"
     ]
    }
   ],
   "source": [
    "#replace .query and .path with [\"query\"] and [\"path\"] to test with this configuration\n",
    "testurl = {\"path\": \"/Datastreams('saqn%3Ads%3A7540858')/Observations\", \"query\": {\"$filter\":\"phenomenonTime%20lt%202019-07-02T18:00:00.000Z%20and%20phenomenonTime%20gt%202019-07-02T15:00:00.000Z\", \"$aggregate\": 5}}\n",
    "test=handle(testurl,\"b\")[\"body\"]"
   ]
  },
  {
   "cell_type": "code",
   "execution_count": 30,
   "metadata": {},
   "outputs": [
    {
     "data": {
      "text/plain": [
       "[\"https://api.smartaq.net/v1.0/Datastreams('saqn%3Ads%3A7540858')/Observations?$filter=phenomenonTime%20lt%202019-07-02T18:00:00.000Z%20and%20phenomenonTime%20gt%202019-07-02T15:00:00.000Z\",\n",
       " 5]"
      ]
     },
     "execution_count": 30,
     "metadata": {},
     "output_type": "execute_result"
    }
   ],
   "source": [
    "test"
   ]
  }
 ],
 "metadata": {
  "kernelspec": {
   "display_name": "Python 3",
   "language": "python",
   "name": "python3"
  },
  "language_info": {
   "codemirror_mode": {
    "name": "ipython",
    "version": 3
   },
   "file_extension": ".py",
   "mimetype": "text/x-python",
   "name": "python",
   "nbconvert_exporter": "python",
   "pygments_lexer": "ipython3",
   "version": "3.7.1"
  }
 },
 "nbformat": 4,
 "nbformat_minor": 2
}
