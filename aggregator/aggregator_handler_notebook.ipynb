{
 "cells": [
  {
   "cell_type": "code",
   "execution_count": 253,
   "metadata": {},
   "outputs": [],
   "source": [
    "import json, requests\n",
    "import pandas as pd\n",
    "import numpy as np\n",
    "\n",
    "def getdata(initiallink):\n",
    "    \n",
    "    link=initiallink\n",
    "    data=pd.Series(dtype=\"float64\")\n",
    "    morenextlinks=True\n",
    "    \n",
    "    while(morenextlinks):\n",
    "\n",
    "        try:\n",
    "            #get the data\n",
    "            datarequest=json.loads(requests.get(link).text)\n",
    "            if(datarequest['value']==[]):\n",
    "                #print('no observations under this link')\n",
    "                break\n",
    "\n",
    "        except: \n",
    "            #print('no observations under this link')\n",
    "            break\n",
    "\n",
    "\n",
    "        if(len(datarequest['value'])>0):\n",
    "            #append chunks\n",
    "            datachunk=pd.Series(list(map(lambda x: x[\"result\"],datarequest[\"value\"])),index=list(map(lambda x: pd.to_datetime(x[\"resultTime\"]),datarequest[\"value\"])))\n",
    "            data=data.append(datachunk)\n",
    "\n",
    "            try:\n",
    "                link=datarequest[\"@iot.nextLink\"]\n",
    "            except:\n",
    "                morenextlinks=False;\n",
    "                break\n",
    "    return data\n",
    "\n",
    "\n",
    "def handle(event, context):\n",
    "    \n",
    "    t=5\n",
    "    \n",
    "    url = \"https://api.smartaq.net/v1.0\"\n",
    "    frostquery=\"/Datastreams('saqn%3Ads%3Afc82203')/Observations?$filter=phenomenonTime%20gt%202020-05-20T02:00:00.000Z%20and%20phenomenonTime%20lt%202020-05-22T02:00:00.000Z\"\n",
    "    \n",
    "    freq=str(t) + \"T\"\n",
    "    \n",
    "    data=getdata(url + frostquery)\n",
    "    \n",
    "    #check for empty link\n",
    "    try:\n",
    "        data[0]\n",
    "    except: \n",
    "        return {\n",
    "            \"statusCode\": 404,\n",
    "            \"body\": {}, \n",
    "            \"headers\": {\n",
    "                \"Content-Type\": \"application/json\"\n",
    "            }\n",
    "        }\n",
    "    \n",
    "    #aggregate the data\n",
    "    agg=data.resample(freq).agg([np.sum, np.mean, np.std])\n",
    "    agg[\"count\"]=(agg[\"sum\"]/agg[\"mean\"]).apply(int)\n",
    "    \n",
    "    #output the result as a dataframe\n",
    "    result=pd.DataFrame({\"result\": list(agg[\"mean\"]),\"resultTime\": list(agg.index.map(lambda x: x.isoformat().split(\"+\")[0] + \".000Z\")),\"phenomenonTime\": list(agg.index.map(lambda x: (x-pd.Timedelta(str(t) + \"m\")).isoformat().split(\"+\")[0] + \".000Z\" + \"/\" + x.isoformat().split(\"+\")[0] + \".000Z\")), \"parameters\": json.loads(agg[[\"count\",\"std\"]].to_json(orient=\"records\"))})\n",
    "    \n",
    "    \n",
    "    \n",
    "    return {\n",
    "        \"statusCode\": 200,\n",
    "        \"body\": result.to_json(orient='records'), \n",
    "        \"headers\": {\n",
    "            \"Content-Type\": \"application/json\"\n",
    "        }\n",
    "    }\n",
    "\n"
   ]
  },
  {
   "cell_type": "code",
   "execution_count": 254,
   "metadata": {},
   "outputs": [],
   "source": [
    "test=handle(\"a\",\"b\")[\"body\"]"
   ]
  },
  {
   "cell_type": "code",
   "execution_count": 258,
   "metadata": {},
   "outputs": [
    {
     "data": {
      "text/plain": [
       "{'result': 963.7095909091,\n",
       " 'resultTime': '2020-05-22T01:55:00.000Z',\n",
       " 'phenomenonTime': '2020-05-22T01:50:00.000Z/2020-05-22T01:55:00.000Z',\n",
       " 'parameters': {'count': 22, 'std': 0.0212951125}}"
      ]
     },
     "execution_count": 258,
     "metadata": {},
     "output_type": "execute_result"
    }
   ],
   "source": [
    "json.loads(test)[-1]"
   ]
  },
  {
   "cell_type": "code",
   "execution_count": 256,
   "metadata": {},
   "outputs": [
    {
     "data": {
      "text/plain": [
       "551"
      ]
     },
     "execution_count": 256,
     "metadata": {},
     "output_type": "execute_result"
    }
   ],
   "source": [
    "len(json.loads(test))"
   ]
  },
  {
   "cell_type": "code",
   "execution_count": 209,
   "metadata": {},
   "outputs": [
    {
     "data": {
      "text/plain": [
       "2020-05-20 04:06:50+00:00    961.2008\n",
       "2020-05-20 04:07:01+00:00    961.2252\n",
       "2020-05-20 04:07:11+00:00    961.1922\n",
       "2020-05-20 04:07:21+00:00    961.1848\n",
       "dtype: float64"
      ]
     },
     "execution_count": 209,
     "metadata": {},
     "output_type": "execute_result"
    }
   ],
   "source": [
    ".append(test[:2].append(test[2:4]))"
   ]
  },
  {
   "cell_type": "code",
   "execution_count": 236,
   "metadata": {},
   "outputs": [
    {
     "data": {
      "text/plain": [
       "1.0"
      ]
     },
     "execution_count": 236,
     "metadata": {},
     "output_type": "execute_result"
    }
   ],
   "source": [
    "pd.Series([1,2,3],dtype=\"float64\")[0]"
   ]
  },
  {
   "cell_type": "code",
   "execution_count": 241,
   "metadata": {},
   "outputs": [
    {
     "data": {
      "text/plain": [
       "2020-05-20 04:06:50+00:00    961.2008\n",
       "2020-05-20 04:07:01+00:00    961.2252\n",
       "2020-05-20 04:07:11+00:00    961.1922\n",
       "2020-05-20 04:07:21+00:00    961.1848\n",
       "2020-05-20 04:07:31+00:00    961.2009\n",
       "                               ...   \n",
       "2020-05-20 08:59:15+00:00    962.2452\n",
       "2020-05-20 08:59:25+00:00    962.2336\n",
       "2020-05-20 08:59:36+00:00    962.2336\n",
       "2020-05-20 08:59:46+00:00    962.2036\n",
       "2020-05-20 08:59:56+00:00    962.2459\n",
       "Length: 1388, dtype: float64"
      ]
     },
     "execution_count": 241,
     "metadata": {},
     "output_type": "execute_result"
    }
   ],
   "source": [
    "    url = \"https://api.smartaq.net/v1.0\"\n",
    "    frostquery=\"/Datastreams('saqn%3Ads%3Afc82203')/Observations?$filter=phenomenonTime%20gt%202020-05-20T02:00:00.000Z%20and%20phenomenonTime%20lt%202020-05-20T09:00:00.000Z\"\n",
    "    \n",
    "    freq=str(t) + \"T\"\n",
    "    \n",
    "    getdata(url + frostquery)\n"
   ]
  },
  {
   "cell_type": "code",
   "execution_count": 221,
   "metadata": {},
   "outputs": [
    {
     "data": {
      "text/plain": [
       "Series([], dtype: float64)"
      ]
     },
     "execution_count": 221,
     "metadata": {},
     "output_type": "execute_result"
    }
   ],
   "source": [
    "data"
   ]
  },
  {
   "cell_type": "code",
   "execution_count": null,
   "metadata": {},
   "outputs": [],
   "source": []
  }
 ],
 "metadata": {
  "kernelspec": {
   "display_name": "Python 3",
   "language": "python",
   "name": "python3"
  },
  "language_info": {
   "codemirror_mode": {
    "name": "ipython",
    "version": 3
   },
   "file_extension": ".py",
   "mimetype": "text/x-python",
   "name": "python",
   "nbconvert_exporter": "python",
   "pygments_lexer": "ipython3",
   "version": "3.7.6"
  }
 },
 "nbformat": 4,
 "nbformat_minor": 2
}
